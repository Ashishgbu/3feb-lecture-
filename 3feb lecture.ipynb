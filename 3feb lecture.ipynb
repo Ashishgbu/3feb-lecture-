{
 "cells": [
  {
   "cell_type": "code",
   "execution_count": 2,
   "id": "f6a04ab8-fac2-4351-aa41-ab2b53f1fc1f",
   "metadata": {},
   "outputs": [
    {
     "name": "stdin",
     "output_type": "stream",
     "text": [
      "table of  2\n"
     ]
    },
    {
     "name": "stdout",
     "output_type": "stream",
     "text": [
      "2 * 1 = 2\n",
      "2 * 2 = 4\n",
      "2 * 3 = 6\n",
      "2 * 4 = 8\n",
      "2 * 5 = 10\n",
      "2 * 6 = 12\n",
      "2 * 7 = 14\n",
      "2 * 8 = 16\n",
      "2 * 9 = 18\n",
      "2 * 10 = 20\n"
     ]
    }
   ],
   "source": [
    "n=int(input(\"table of \"))\n",
    "i=1\n",
    "while i<=10:\n",
    "    result=n*i\n",
    "    print(n,\"*\",i,\"=\",result)\n",
    "    i = i+1\n",
    "              "
   ]
  },
  {
   "cell_type": "code",
   "execution_count": 5,
   "id": "23306971-8c7a-4499-9fb2-d23cea9eaeea",
   "metadata": {},
   "outputs": [
    {
     "data": {
      "text/plain": [
       "'This is my first function return sudh'"
      ]
     },
     "execution_count": 5,
     "metadata": {},
     "output_type": "execute_result"
    }
   ],
   "source": [
    "def test1():\n",
    "    return \"This is my first function return \"\n",
    "test1()+\"sudh\""
   ]
  },
  {
   "cell_type": "code",
   "execution_count": 6,
   "id": "13547dd6-4c29-4232-b21b-d08da8cb99cd",
   "metadata": {},
   "outputs": [],
   "source": [
    "def test2():\n",
    "    print(\"This is my first function return\")"
   ]
  },
  {
   "cell_type": "code",
   "execution_count": 7,
   "id": "9c6f8481-7c8d-465a-a548-280f442b360c",
   "metadata": {},
   "outputs": [
    {
     "name": "stdout",
     "output_type": "stream",
     "text": [
      "This is my first function return\n"
     ]
    }
   ],
   "source": [
    "test2()"
   ]
  },
  {
   "cell_type": "code",
   "execution_count": 8,
   "id": "e945fe9c-9898-4cf0-98f1-59104e3cae0d",
   "metadata": {},
   "outputs": [
    {
     "name": "stdout",
     "output_type": "stream",
     "text": [
      "This is my first function return\n"
     ]
    },
    {
     "ename": "TypeError",
     "evalue": "unsupported operand type(s) for +: 'NoneType' and 'str'",
     "output_type": "error",
     "traceback": [
      "\u001b[0;31m---------------------------------------------------------------------------\u001b[0m",
      "\u001b[0;31mTypeError\u001b[0m                                 Traceback (most recent call last)",
      "Cell \u001b[0;32mIn[8], line 1\u001b[0m\n\u001b[0;32m----> 1\u001b[0m \u001b[43mtest2\u001b[49m\u001b[43m(\u001b[49m\u001b[43m)\u001b[49m\u001b[38;5;241;43m+\u001b[39;49m\u001b[38;5;124;43m\"\u001b[39;49m\u001b[38;5;124;43msudh\u001b[39;49m\u001b[38;5;124;43m\"\u001b[39;49m\n",
      "\u001b[0;31mTypeError\u001b[0m: unsupported operand type(s) for +: 'NoneType' and 'str'"
     ]
    }
   ],
   "source": [
    "test2()+\"sudh\""
   ]
  },
  {
   "cell_type": "markdown",
   "id": "624ae24e-b959-489a-9b85-4e00fa538c0e",
   "metadata": {},
   "source": [
    "'''\n",
    "print function return nahi karta balki wah print karta \n",
    "jab \"sudh\" ko concatenate kareinge to nahi hoga kyoki \"sudh \" ka retrun type to string hai but \n",
    "print \"This is my first function return\" koi return type nahi hai. so, yah error throw kar raha hai\n",
    "'''"
   ]
  },
  {
   "cell_type": "code",
   "execution_count": 9,
   "id": "831488eb-7d12-4f8a-8194-caab012e7b99",
   "metadata": {},
   "outputs": [],
   "source": [
    "def test3():\n",
    "    return \"sudh\",23,345.56,[1,2,3,3]"
   ]
  },
  {
   "cell_type": "code",
   "execution_count": 10,
   "id": "5bc97a3a-b745-4811-8823-c13c1d0a7d55",
   "metadata": {},
   "outputs": [
    {
     "data": {
      "text/plain": [
       "('sudh', 23, 345.56, [1, 2, 3, 3])"
      ]
     },
     "execution_count": 10,
     "metadata": {},
     "output_type": "execute_result"
    }
   ],
   "source": [
    "test3()"
   ]
  },
  {
   "cell_type": "code",
   "execution_count": 11,
   "id": "c2056191-3d0b-444f-ab95-f5e18f421986",
   "metadata": {},
   "outputs": [],
   "source": [
    "#yahan every value of test3() ke sabhi element ko assign kr diya hai\n",
    "a,b,c,d = test3()"
   ]
  },
  {
   "cell_type": "code",
   "execution_count": 12,
   "id": "48d4e4c2-dee8-4589-9ae4-cc2667489de3",
   "metadata": {},
   "outputs": [
    {
     "data": {
      "text/plain": [
       "'sudh'"
      ]
     },
     "execution_count": 12,
     "metadata": {},
     "output_type": "execute_result"
    }
   ],
   "source": [
    "a"
   ]
  },
  {
   "cell_type": "code",
   "execution_count": 13,
   "id": "c5e4fc95-0559-4892-9e5b-dcff1d9975cb",
   "metadata": {},
   "outputs": [
    {
     "data": {
      "text/plain": [
       "23"
      ]
     },
     "execution_count": 13,
     "metadata": {},
     "output_type": "execute_result"
    }
   ],
   "source": [
    "b"
   ]
  },
  {
   "cell_type": "code",
   "execution_count": 14,
   "id": "01e19827-75db-4ae5-9aeb-915e9f36597f",
   "metadata": {},
   "outputs": [
    {
     "data": {
      "text/plain": [
       "345.56"
      ]
     },
     "execution_count": 14,
     "metadata": {},
     "output_type": "execute_result"
    }
   ],
   "source": [
    "c"
   ]
  },
  {
   "cell_type": "code",
   "execution_count": 15,
   "id": "413d2c77-57e7-4349-a451-336c9399b817",
   "metadata": {},
   "outputs": [
    {
     "data": {
      "text/plain": [
       "[1, 2, 3, 3]"
      ]
     },
     "execution_count": 15,
     "metadata": {},
     "output_type": "execute_result"
    }
   ],
   "source": [
    "d"
   ]
  },
  {
   "cell_type": "code",
   "execution_count": 21,
   "id": "2d2657f1-1c29-4ff5-91a3-69e3c5110b63",
   "metadata": {},
   "outputs": [],
   "source": [
    "def test4():\n",
    "    a=5+6/7\n",
    "    return a\n",
    "    "
   ]
  },
  {
   "cell_type": "code",
   "execution_count": 24,
   "id": "1d45edfa-98c5-46da-b157-2da40a2b09ec",
   "metadata": {},
   "outputs": [
    {
     "data": {
      "text/plain": [
       "5.857142857142857"
      ]
     },
     "execution_count": 24,
     "metadata": {},
     "output_type": "execute_result"
    }
   ],
   "source": [
    "test4()"
   ]
  },
  {
   "cell_type": "code",
   "execution_count": 37,
   "id": "c0484dd6-b43c-4127-ae84-e296fae2b10d",
   "metadata": {},
   "outputs": [],
   "source": [
    "def test5(a,b,c):\n",
    "    d = a+b/c\n",
    "    return d"
   ]
  },
  {
   "cell_type": "code",
   "execution_count": 39,
   "id": "d480c482-4975-49c6-835a-416681e8bd9d",
   "metadata": {},
   "outputs": [
    {
     "ename": "TypeError",
     "evalue": "test5() missing 3 required positional arguments: 'a', 'b', and 'c'",
     "output_type": "error",
     "traceback": [
      "\u001b[0;31m---------------------------------------------------------------------------\u001b[0m",
      "\u001b[0;31mTypeError\u001b[0m                                 Traceback (most recent call last)",
      "Cell \u001b[0;32mIn[39], line 1\u001b[0m\n\u001b[0;32m----> 1\u001b[0m \u001b[43mtest5\u001b[49m\u001b[43m(\u001b[49m\u001b[43m)\u001b[49m\n",
      "\u001b[0;31mTypeError\u001b[0m: test5() missing 3 required positional arguments: 'a', 'b', and 'c'"
     ]
    }
   ],
   "source": [
    "test5()\n"
   ]
  },
  {
   "cell_type": "markdown",
   "id": "5249bb6e-a0a1-4116-9a7a-275aa2d1e3a8",
   "metadata": {},
   "source": [
    "yahan error eesliye aa raha hai kyoki maine test argument meing kuch return type ki \n",
    "value nahi insert kiya hai"
   ]
  },
  {
   "cell_type": "code",
   "execution_count": 38,
   "id": "534f6282-66a1-41b8-b6f8-1b2fec92dbed",
   "metadata": {},
   "outputs": [
    {
     "data": {
      "text/plain": [
       "2.6"
      ]
     },
     "execution_count": 38,
     "metadata": {},
     "output_type": "execute_result"
    }
   ],
   "source": [
    "test5(2,3,5)"
   ]
  },
  {
   "cell_type": "code",
   "execution_count": 41,
   "id": "58a17e88-64df-4059-9bad-cd8b06816b89",
   "metadata": {},
   "outputs": [],
   "source": [
    "def test6(a,b):\n",
    "    return a+b"
   ]
  },
  {
   "cell_type": "code",
   "execution_count": 42,
   "id": "d19430f2-9786-4172-aa76-f55b9dc3f43c",
   "metadata": {},
   "outputs": [
    {
     "data": {
      "text/plain": [
       "7"
      ]
     },
     "execution_count": 42,
     "metadata": {},
     "output_type": "execute_result"
    }
   ],
   "source": [
    "test6(3,4)"
   ]
  },
  {
   "cell_type": "code",
   "execution_count": 53,
   "id": "729144bf-c24d-45e3-ae36-e3b6f3b7dbd3",
   "metadata": {},
   "outputs": [],
   "source": [
    "l=[1,2,3,4,\"sudh\",\"kumar\",[1,2,3,4,5,6]]\n",
    "#make a list only integer value with the help of funciton \n",
    "def test7(l):\n",
    "    l1=[]\n",
    "    for i in l:\n",
    "        if type(i) ==int or type(i) ==float:\n",
    "            l1.append(i)\n",
    "    return l1\n",
    "            \n",
    "        \n",
    "    "
   ]
  },
  {
   "cell_type": "code",
   "execution_count": 54,
   "id": "c263dddd-6924-4146-b650-fef15595210e",
   "metadata": {},
   "outputs": [
    {
     "data": {
      "text/plain": [
       "[1, 2, 3, 4]"
      ]
     },
     "execution_count": 54,
     "metadata": {},
     "output_type": "execute_result"
    }
   ],
   "source": [
    "test7(l)"
   ]
  },
  {
   "cell_type": "code",
   "execution_count": 55,
   "id": "6a9522b7-7c66-4ceb-8392-6936f0f419c9",
   "metadata": {},
   "outputs": [],
   "source": [
    "l=[1,2,3,4,\"sudh\",\"kumar\",[1,2,3,4,5,6]]\n"
   ]
  },
  {
   "cell_type": "code",
   "execution_count": 56,
   "id": "37c62a61-d542-4e88-b994-f86b889c1d75",
   "metadata": {},
   "outputs": [
    {
     "data": {
      "text/plain": [
       "[1, 2, 3, 4, 'sudh', 'kumar', [1, 2, 3, 4, 5, 6]]"
      ]
     },
     "execution_count": 56,
     "metadata": {},
     "output_type": "execute_result"
    }
   ],
   "source": [
    "l"
   ]
  },
  {
   "cell_type": "code",
   "execution_count": 61,
   "id": "87412809-f562-4460-8207-6e52640e535c",
   "metadata": {},
   "outputs": [],
   "source": [
    "# select integer value and list with the help of function\n",
    "def test8(a):\n",
    "    l = []\n",
    "    for i in a:\n",
    "        if type(i)== list:\n",
    "            for j in i:\n",
    "                l.append(j)\n",
    "        else:\n",
    "            if type(i)==int or type(i)==float:\n",
    "                l.append(i)\n",
    "    return l\n"
   ]
  },
  {
   "cell_type": "code",
   "execution_count": 62,
   "id": "97afb531-4e48-427d-9413-fa9fdcf9cae4",
   "metadata": {},
   "outputs": [
    {
     "data": {
      "text/plain": [
       "[1, 2, 3, 4, 1, 2, 3, 4, 5, 6]"
      ]
     },
     "execution_count": 62,
     "metadata": {},
     "output_type": "execute_result"
    }
   ],
   "source": [
    "test8(l)"
   ]
  },
  {
   "cell_type": "code",
   "execution_count": 63,
   "id": "3e98be2e-6ad9-4c6c-ba1e-14b0a9535439",
   "metadata": {},
   "outputs": [],
   "source": [
    "def test9(*args):\n",
    "    return args\n",
    "    "
   ]
  },
  {
   "cell_type": "code",
   "execution_count": 65,
   "id": "a50ef341-3208-4928-83f6-1f6c52d72948",
   "metadata": {},
   "outputs": [
    {
     "data": {
      "text/plain": [
       "(1, 2, 3, 4)"
      ]
     },
     "execution_count": 65,
     "metadata": {},
     "output_type": "execute_result"
    }
   ],
   "source": [
    "test9(1,2,3,4)\n",
    "#it store the value in the form of tuple"
   ]
  },
  {
   "cell_type": "code",
   "execution_count": 66,
   "id": "247733e9-24e5-4a2b-9de0-1f9749cd6c64",
   "metadata": {},
   "outputs": [
    {
     "data": {
      "text/plain": [
       "([1, 2, 3, 4, 'sudh', 'kumar', [1, 2, 3, 4, 5, 6]],)"
      ]
     },
     "execution_count": 66,
     "metadata": {},
     "output_type": "execute_result"
    }
   ],
   "source": [
    "test9([1, 2, 3, 4, 'sudh', 'kumar', [1, 2, 3, 4, 5, 6]])"
   ]
  },
  {
   "cell_type": "code",
   "execution_count": 71,
   "id": "82926131-ecd0-4a4b-8841-8654c32c5b25",
   "metadata": {},
   "outputs": [],
   "source": [
    "def test10(*ash):\n",
    "    return ash\n",
    "# we can pass any argument with the help of astric(*) because it allows multiple input by the user"
   ]
  },
  {
   "cell_type": "code",
   "execution_count": 72,
   "id": "78d5cf1a-4bc5-47ab-85b5-63507afdd955",
   "metadata": {},
   "outputs": [
    {
     "data": {
      "text/plain": [
       "(1, 2, 3, 4, 'sudh', 'kumar', [1, 2, 3, 4, 5, 6])"
      ]
     },
     "execution_count": 72,
     "metadata": {},
     "output_type": "execute_result"
    }
   ],
   "source": [
    "test10(1, 2, 3, 4, 'sudh', 'kumar', [1, 2, 3, 4, 5, 6])"
   ]
  },
  {
   "cell_type": "code",
   "execution_count": 73,
   "id": "d7aa9a5f-7a79-43fe-ace1-51b48ee57f1f",
   "metadata": {},
   "outputs": [],
   "source": [
    "# how to return multi value\n",
    "def test11(*ash,a):\n",
    "    return ash,a"
   ]
  },
  {
   "cell_type": "code",
   "execution_count": 74,
   "id": "1315d0c1-7b9e-45bc-9291-d6f04a96a336",
   "metadata": {},
   "outputs": [
    {
     "ename": "TypeError",
     "evalue": "test11() missing 1 required keyword-only argument: 'a'",
     "output_type": "error",
     "traceback": [
      "\u001b[0;31m---------------------------------------------------------------------------\u001b[0m",
      "\u001b[0;31mTypeError\u001b[0m                                 Traceback (most recent call last)",
      "Cell \u001b[0;32mIn[74], line 1\u001b[0m\n\u001b[0;32m----> 1\u001b[0m \u001b[43mtest11\u001b[49m\u001b[43m(\u001b[49m\u001b[38;5;241;43m1\u001b[39;49m\u001b[43m,\u001b[49m\u001b[38;5;241;43m3\u001b[39;49m\u001b[43m,\u001b[49m\u001b[38;5;241;43m4\u001b[39;49m\u001b[43m,\u001b[49m\u001b[38;5;241;43m53\u001b[39;49m\u001b[43m,\u001b[49m\u001b[38;5;241;43m4\u001b[39;49m\u001b[43m)\u001b[49m\n",
      "\u001b[0;31mTypeError\u001b[0m: test11() missing 1 required keyword-only argument: 'a'"
     ]
    }
   ],
   "source": [
    "test11(1,3,4,53,4)"
   ]
  },
  {
   "cell_type": "code",
   "execution_count": 75,
   "id": "9b3e1f5c-c354-420d-96c2-061d1ec51a6a",
   "metadata": {},
   "outputs": [
    {
     "data": {
      "text/plain": [
       "((1, 3, 4, 53), 23)"
      ]
     },
     "execution_count": 75,
     "metadata": {},
     "output_type": "execute_result"
    }
   ],
   "source": [
    "test11(1,3,4,53,a=23)"
   ]
  },
  {
   "cell_type": "code",
   "execution_count": 76,
   "id": "66404085-394e-433b-8145-f4f27aaceacf",
   "metadata": {},
   "outputs": [],
   "source": [
    "def test12(**arg):\n",
    "    return arg"
   ]
  },
  {
   "cell_type": "code",
   "execution_count": 77,
   "id": "4a90af11-e6b0-498a-8dcd-c3b1564750e1",
   "metadata": {},
   "outputs": [
    {
     "data": {
      "text/plain": [
       "dict"
      ]
     },
     "execution_count": 77,
     "metadata": {},
     "output_type": "execute_result"
    }
   ],
   "source": [
    "type(test12())"
   ]
  },
  {
   "cell_type": "code",
   "execution_count": 78,
   "id": "e65d31b6-64dd-49f4-a5ad-2ef39855e8cd",
   "metadata": {},
   "outputs": [
    {
     "data": {
      "text/plain": [
       "{}"
      ]
     },
     "execution_count": 78,
     "metadata": {},
     "output_type": "execute_result"
    }
   ],
   "source": [
    "test12()"
   ]
  },
  {
   "cell_type": "code",
   "execution_count": 80,
   "id": "964a46cf-5d8e-4dca-81fe-a5c8f5b85e51",
   "metadata": {},
   "outputs": [
    {
     "data": {
      "text/plain": [
       "{'a': [1, 2, 3, 4], 'b': 'sudh', 'c': 'kumar'}"
      ]
     },
     "execution_count": 80,
     "metadata": {},
     "output_type": "execute_result"
    }
   ],
   "source": [
    "test12(a=[1,2,3,4],b=\"sudh\",c=\"kumar\")"
   ]
  },
  {
   "cell_type": "code",
   "execution_count": null,
   "id": "339263cb-bc68-4d8e-b079-45e6d0dfb5f9",
   "metadata": {},
   "outputs": [],
   "source": []
  }
 ],
 "metadata": {
  "kernelspec": {
   "display_name": "Python 3 (ipykernel)",
   "language": "python",
   "name": "python3"
  },
  "language_info": {
   "codemirror_mode": {
    "name": "ipython",
    "version": 3
   },
   "file_extension": ".py",
   "mimetype": "text/x-python",
   "name": "python",
   "nbconvert_exporter": "python",
   "pygments_lexer": "ipython3",
   "version": "3.10.8"
  }
 },
 "nbformat": 4,
 "nbformat_minor": 5
}
